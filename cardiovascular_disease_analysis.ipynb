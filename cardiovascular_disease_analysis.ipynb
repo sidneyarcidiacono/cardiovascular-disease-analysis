{
  "nbformat": 4,
  "nbformat_minor": 0,
  "metadata": {
    "colab": {
      "name": "cardiovascular_disease_analysis.ipynb",
      "provenance": [],
      "collapsed_sections": [],
      "authorship_tag": "ABX9TyPMR7feCeUozQJsCyBcQZG5",
      "include_colab_link": true
    },
    "kernelspec": {
      "name": "python3",
      "display_name": "Python 3"
    }
  },
  "cells": [
    {
      "cell_type": "markdown",
      "metadata": {
        "id": "view-in-github",
        "colab_type": "text"
      },
      "source": [
        "<a href=\"https://colab.research.google.com/github/sidneyarcidiacono/cardiovascular-disease-analysis/blob/main/cardiovascular_disease_analysis.ipynb\" target=\"_parent\"><img src=\"https://colab.research.google.com/assets/colab-badge.svg\" alt=\"Open In Colab\"/></a>"
      ]
    },
    {
      "cell_type": "markdown",
      "metadata": {
        "id": "L2O7ScgyWg4I"
      },
      "source": [
        "# Predicting the Presence of Cardiovascular Disease\n",
        "\n",
        "We'll be using [this](https://www.kaggle.com/sulianova/cardiovascular-disease-dataset) dataset and a KNN algorithm provided by SciKit Learn to predict whether or not a patient is likely to have cardiovascular disease."
      ]
    },
    {
      "cell_type": "code",
      "metadata": {
        "id": "xvEFD5NeWddY"
      },
      "source": [
        "# import libraries\n",
        "import numpy as np\n",
        "import pandas as pd\n",
        "import matplotlib.pyplot as plt\n",
        "import seaborn as sns"
      ],
      "execution_count": 75,
      "outputs": []
    },
    {
      "cell_type": "code",
      "metadata": {
        "colab": {
          "base_uri": "https://localhost:8080/",
          "height": 424
        },
        "id": "qWqnS6CmajZc",
        "outputId": "915cfcd7-2aef-46ca-a9f8-3f96acb84d96"
      },
      "source": [
        "df = pd.read_csv(\"https://raw.githubusercontent.com/sidneyarcidiacono/cardiovascular-disease-analysis/main/cardio_train.csv\", delimiter=';')\n",
        "\n",
        "df"
      ],
      "execution_count": 76,
      "outputs": [
        {
          "output_type": "execute_result",
          "data": {
            "text/html": [
              "<div>\n",
              "<style scoped>\n",
              "    .dataframe tbody tr th:only-of-type {\n",
              "        vertical-align: middle;\n",
              "    }\n",
              "\n",
              "    .dataframe tbody tr th {\n",
              "        vertical-align: top;\n",
              "    }\n",
              "\n",
              "    .dataframe thead th {\n",
              "        text-align: right;\n",
              "    }\n",
              "</style>\n",
              "<table border=\"1\" class=\"dataframe\">\n",
              "  <thead>\n",
              "    <tr style=\"text-align: right;\">\n",
              "      <th></th>\n",
              "      <th>id</th>\n",
              "      <th>age</th>\n",
              "      <th>gender</th>\n",
              "      <th>height</th>\n",
              "      <th>weight</th>\n",
              "      <th>ap_hi</th>\n",
              "      <th>ap_lo</th>\n",
              "      <th>cholesterol</th>\n",
              "      <th>gluc</th>\n",
              "      <th>smoke</th>\n",
              "      <th>alco</th>\n",
              "      <th>active</th>\n",
              "      <th>cardio</th>\n",
              "    </tr>\n",
              "  </thead>\n",
              "  <tbody>\n",
              "    <tr>\n",
              "      <th>0</th>\n",
              "      <td>0</td>\n",
              "      <td>18393</td>\n",
              "      <td>2</td>\n",
              "      <td>168</td>\n",
              "      <td>62.0</td>\n",
              "      <td>110</td>\n",
              "      <td>80</td>\n",
              "      <td>1</td>\n",
              "      <td>1</td>\n",
              "      <td>0</td>\n",
              "      <td>0</td>\n",
              "      <td>1</td>\n",
              "      <td>0</td>\n",
              "    </tr>\n",
              "    <tr>\n",
              "      <th>1</th>\n",
              "      <td>1</td>\n",
              "      <td>20228</td>\n",
              "      <td>1</td>\n",
              "      <td>156</td>\n",
              "      <td>85.0</td>\n",
              "      <td>140</td>\n",
              "      <td>90</td>\n",
              "      <td>3</td>\n",
              "      <td>1</td>\n",
              "      <td>0</td>\n",
              "      <td>0</td>\n",
              "      <td>1</td>\n",
              "      <td>1</td>\n",
              "    </tr>\n",
              "    <tr>\n",
              "      <th>2</th>\n",
              "      <td>2</td>\n",
              "      <td>18857</td>\n",
              "      <td>1</td>\n",
              "      <td>165</td>\n",
              "      <td>64.0</td>\n",
              "      <td>130</td>\n",
              "      <td>70</td>\n",
              "      <td>3</td>\n",
              "      <td>1</td>\n",
              "      <td>0</td>\n",
              "      <td>0</td>\n",
              "      <td>0</td>\n",
              "      <td>1</td>\n",
              "    </tr>\n",
              "    <tr>\n",
              "      <th>3</th>\n",
              "      <td>3</td>\n",
              "      <td>17623</td>\n",
              "      <td>2</td>\n",
              "      <td>169</td>\n",
              "      <td>82.0</td>\n",
              "      <td>150</td>\n",
              "      <td>100</td>\n",
              "      <td>1</td>\n",
              "      <td>1</td>\n",
              "      <td>0</td>\n",
              "      <td>0</td>\n",
              "      <td>1</td>\n",
              "      <td>1</td>\n",
              "    </tr>\n",
              "    <tr>\n",
              "      <th>4</th>\n",
              "      <td>4</td>\n",
              "      <td>17474</td>\n",
              "      <td>1</td>\n",
              "      <td>156</td>\n",
              "      <td>56.0</td>\n",
              "      <td>100</td>\n",
              "      <td>60</td>\n",
              "      <td>1</td>\n",
              "      <td>1</td>\n",
              "      <td>0</td>\n",
              "      <td>0</td>\n",
              "      <td>0</td>\n",
              "      <td>0</td>\n",
              "    </tr>\n",
              "    <tr>\n",
              "      <th>...</th>\n",
              "      <td>...</td>\n",
              "      <td>...</td>\n",
              "      <td>...</td>\n",
              "      <td>...</td>\n",
              "      <td>...</td>\n",
              "      <td>...</td>\n",
              "      <td>...</td>\n",
              "      <td>...</td>\n",
              "      <td>...</td>\n",
              "      <td>...</td>\n",
              "      <td>...</td>\n",
              "      <td>...</td>\n",
              "      <td>...</td>\n",
              "    </tr>\n",
              "    <tr>\n",
              "      <th>69995</th>\n",
              "      <td>99993</td>\n",
              "      <td>19240</td>\n",
              "      <td>2</td>\n",
              "      <td>168</td>\n",
              "      <td>76.0</td>\n",
              "      <td>120</td>\n",
              "      <td>80</td>\n",
              "      <td>1</td>\n",
              "      <td>1</td>\n",
              "      <td>1</td>\n",
              "      <td>0</td>\n",
              "      <td>1</td>\n",
              "      <td>0</td>\n",
              "    </tr>\n",
              "    <tr>\n",
              "      <th>69996</th>\n",
              "      <td>99995</td>\n",
              "      <td>22601</td>\n",
              "      <td>1</td>\n",
              "      <td>158</td>\n",
              "      <td>126.0</td>\n",
              "      <td>140</td>\n",
              "      <td>90</td>\n",
              "      <td>2</td>\n",
              "      <td>2</td>\n",
              "      <td>0</td>\n",
              "      <td>0</td>\n",
              "      <td>1</td>\n",
              "      <td>1</td>\n",
              "    </tr>\n",
              "    <tr>\n",
              "      <th>69997</th>\n",
              "      <td>99996</td>\n",
              "      <td>19066</td>\n",
              "      <td>2</td>\n",
              "      <td>183</td>\n",
              "      <td>105.0</td>\n",
              "      <td>180</td>\n",
              "      <td>90</td>\n",
              "      <td>3</td>\n",
              "      <td>1</td>\n",
              "      <td>0</td>\n",
              "      <td>1</td>\n",
              "      <td>0</td>\n",
              "      <td>1</td>\n",
              "    </tr>\n",
              "    <tr>\n",
              "      <th>69998</th>\n",
              "      <td>99998</td>\n",
              "      <td>22431</td>\n",
              "      <td>1</td>\n",
              "      <td>163</td>\n",
              "      <td>72.0</td>\n",
              "      <td>135</td>\n",
              "      <td>80</td>\n",
              "      <td>1</td>\n",
              "      <td>2</td>\n",
              "      <td>0</td>\n",
              "      <td>0</td>\n",
              "      <td>0</td>\n",
              "      <td>1</td>\n",
              "    </tr>\n",
              "    <tr>\n",
              "      <th>69999</th>\n",
              "      <td>99999</td>\n",
              "      <td>20540</td>\n",
              "      <td>1</td>\n",
              "      <td>170</td>\n",
              "      <td>72.0</td>\n",
              "      <td>120</td>\n",
              "      <td>80</td>\n",
              "      <td>2</td>\n",
              "      <td>1</td>\n",
              "      <td>0</td>\n",
              "      <td>0</td>\n",
              "      <td>1</td>\n",
              "      <td>0</td>\n",
              "    </tr>\n",
              "  </tbody>\n",
              "</table>\n",
              "<p>70000 rows × 13 columns</p>\n",
              "</div>"
            ],
            "text/plain": [
              "          id    age  gender  height  weight  ...  gluc  smoke  alco  active  cardio\n",
              "0          0  18393       2     168    62.0  ...     1      0     0       1       0\n",
              "1          1  20228       1     156    85.0  ...     1      0     0       1       1\n",
              "2          2  18857       1     165    64.0  ...     1      0     0       0       1\n",
              "3          3  17623       2     169    82.0  ...     1      0     0       1       1\n",
              "4          4  17474       1     156    56.0  ...     1      0     0       0       0\n",
              "...      ...    ...     ...     ...     ...  ...   ...    ...   ...     ...     ...\n",
              "69995  99993  19240       2     168    76.0  ...     1      1     0       1       0\n",
              "69996  99995  22601       1     158   126.0  ...     2      0     0       1       1\n",
              "69997  99996  19066       2     183   105.0  ...     1      0     1       0       1\n",
              "69998  99998  22431       1     163    72.0  ...     2      0     0       0       1\n",
              "69999  99999  20540       1     170    72.0  ...     1      0     0       1       0\n",
              "\n",
              "[70000 rows x 13 columns]"
            ]
          },
          "metadata": {
            "tags": []
          },
          "execution_count": 76
        }
      ]
    },
    {
      "cell_type": "code",
      "metadata": {
        "colab": {
          "base_uri": "https://localhost:8080/",
          "height": 320
        },
        "id": "D8U4SDckarv0",
        "outputId": "a5dafe5e-d195-45e6-d438-0ee2831c739a"
      },
      "source": [
        "# Show our basic descriptive statistics about our dataset\n",
        "df.describe()"
      ],
      "execution_count": 77,
      "outputs": [
        {
          "output_type": "execute_result",
          "data": {
            "text/html": [
              "<div>\n",
              "<style scoped>\n",
              "    .dataframe tbody tr th:only-of-type {\n",
              "        vertical-align: middle;\n",
              "    }\n",
              "\n",
              "    .dataframe tbody tr th {\n",
              "        vertical-align: top;\n",
              "    }\n",
              "\n",
              "    .dataframe thead th {\n",
              "        text-align: right;\n",
              "    }\n",
              "</style>\n",
              "<table border=\"1\" class=\"dataframe\">\n",
              "  <thead>\n",
              "    <tr style=\"text-align: right;\">\n",
              "      <th></th>\n",
              "      <th>id</th>\n",
              "      <th>age</th>\n",
              "      <th>gender</th>\n",
              "      <th>height</th>\n",
              "      <th>weight</th>\n",
              "      <th>ap_hi</th>\n",
              "      <th>ap_lo</th>\n",
              "      <th>cholesterol</th>\n",
              "      <th>gluc</th>\n",
              "      <th>smoke</th>\n",
              "      <th>alco</th>\n",
              "      <th>active</th>\n",
              "      <th>cardio</th>\n",
              "    </tr>\n",
              "  </thead>\n",
              "  <tbody>\n",
              "    <tr>\n",
              "      <th>count</th>\n",
              "      <td>70000.000000</td>\n",
              "      <td>70000.000000</td>\n",
              "      <td>70000.000000</td>\n",
              "      <td>70000.000000</td>\n",
              "      <td>70000.000000</td>\n",
              "      <td>70000.000000</td>\n",
              "      <td>70000.000000</td>\n",
              "      <td>70000.000000</td>\n",
              "      <td>70000.000000</td>\n",
              "      <td>70000.000000</td>\n",
              "      <td>70000.000000</td>\n",
              "      <td>70000.000000</td>\n",
              "      <td>70000.000000</td>\n",
              "    </tr>\n",
              "    <tr>\n",
              "      <th>mean</th>\n",
              "      <td>49972.419900</td>\n",
              "      <td>19468.865814</td>\n",
              "      <td>1.349571</td>\n",
              "      <td>164.359229</td>\n",
              "      <td>74.205690</td>\n",
              "      <td>128.817286</td>\n",
              "      <td>96.630414</td>\n",
              "      <td>1.366871</td>\n",
              "      <td>1.226457</td>\n",
              "      <td>0.088129</td>\n",
              "      <td>0.053771</td>\n",
              "      <td>0.803729</td>\n",
              "      <td>0.499700</td>\n",
              "    </tr>\n",
              "    <tr>\n",
              "      <th>std</th>\n",
              "      <td>28851.302323</td>\n",
              "      <td>2467.251667</td>\n",
              "      <td>0.476838</td>\n",
              "      <td>8.210126</td>\n",
              "      <td>14.395757</td>\n",
              "      <td>154.011419</td>\n",
              "      <td>188.472530</td>\n",
              "      <td>0.680250</td>\n",
              "      <td>0.572270</td>\n",
              "      <td>0.283484</td>\n",
              "      <td>0.225568</td>\n",
              "      <td>0.397179</td>\n",
              "      <td>0.500003</td>\n",
              "    </tr>\n",
              "    <tr>\n",
              "      <th>min</th>\n",
              "      <td>0.000000</td>\n",
              "      <td>10798.000000</td>\n",
              "      <td>1.000000</td>\n",
              "      <td>55.000000</td>\n",
              "      <td>10.000000</td>\n",
              "      <td>-150.000000</td>\n",
              "      <td>-70.000000</td>\n",
              "      <td>1.000000</td>\n",
              "      <td>1.000000</td>\n",
              "      <td>0.000000</td>\n",
              "      <td>0.000000</td>\n",
              "      <td>0.000000</td>\n",
              "      <td>0.000000</td>\n",
              "    </tr>\n",
              "    <tr>\n",
              "      <th>25%</th>\n",
              "      <td>25006.750000</td>\n",
              "      <td>17664.000000</td>\n",
              "      <td>1.000000</td>\n",
              "      <td>159.000000</td>\n",
              "      <td>65.000000</td>\n",
              "      <td>120.000000</td>\n",
              "      <td>80.000000</td>\n",
              "      <td>1.000000</td>\n",
              "      <td>1.000000</td>\n",
              "      <td>0.000000</td>\n",
              "      <td>0.000000</td>\n",
              "      <td>1.000000</td>\n",
              "      <td>0.000000</td>\n",
              "    </tr>\n",
              "    <tr>\n",
              "      <th>50%</th>\n",
              "      <td>50001.500000</td>\n",
              "      <td>19703.000000</td>\n",
              "      <td>1.000000</td>\n",
              "      <td>165.000000</td>\n",
              "      <td>72.000000</td>\n",
              "      <td>120.000000</td>\n",
              "      <td>80.000000</td>\n",
              "      <td>1.000000</td>\n",
              "      <td>1.000000</td>\n",
              "      <td>0.000000</td>\n",
              "      <td>0.000000</td>\n",
              "      <td>1.000000</td>\n",
              "      <td>0.000000</td>\n",
              "    </tr>\n",
              "    <tr>\n",
              "      <th>75%</th>\n",
              "      <td>74889.250000</td>\n",
              "      <td>21327.000000</td>\n",
              "      <td>2.000000</td>\n",
              "      <td>170.000000</td>\n",
              "      <td>82.000000</td>\n",
              "      <td>140.000000</td>\n",
              "      <td>90.000000</td>\n",
              "      <td>2.000000</td>\n",
              "      <td>1.000000</td>\n",
              "      <td>0.000000</td>\n",
              "      <td>0.000000</td>\n",
              "      <td>1.000000</td>\n",
              "      <td>1.000000</td>\n",
              "    </tr>\n",
              "    <tr>\n",
              "      <th>max</th>\n",
              "      <td>99999.000000</td>\n",
              "      <td>23713.000000</td>\n",
              "      <td>2.000000</td>\n",
              "      <td>250.000000</td>\n",
              "      <td>200.000000</td>\n",
              "      <td>16020.000000</td>\n",
              "      <td>11000.000000</td>\n",
              "      <td>3.000000</td>\n",
              "      <td>3.000000</td>\n",
              "      <td>1.000000</td>\n",
              "      <td>1.000000</td>\n",
              "      <td>1.000000</td>\n",
              "      <td>1.000000</td>\n",
              "    </tr>\n",
              "  </tbody>\n",
              "</table>\n",
              "</div>"
            ],
            "text/plain": [
              "                 id           age  ...        active        cardio\n",
              "count  70000.000000  70000.000000  ...  70000.000000  70000.000000\n",
              "mean   49972.419900  19468.865814  ...      0.803729      0.499700\n",
              "std    28851.302323   2467.251667  ...      0.397179      0.500003\n",
              "min        0.000000  10798.000000  ...      0.000000      0.000000\n",
              "25%    25006.750000  17664.000000  ...      1.000000      0.000000\n",
              "50%    50001.500000  19703.000000  ...      1.000000      0.000000\n",
              "75%    74889.250000  21327.000000  ...      1.000000      1.000000\n",
              "max    99999.000000  23713.000000  ...      1.000000      1.000000\n",
              "\n",
              "[8 rows x 13 columns]"
            ]
          },
          "metadata": {
            "tags": []
          },
          "execution_count": 77
        }
      ]
    },
    {
      "cell_type": "code",
      "metadata": {
        "colab": {
          "base_uri": "https://localhost:8080/"
        },
        "id": "3Mrxn56bbpow",
        "outputId": "556d1606-5f5a-42b7-ff73-855582569ab2"
      },
      "source": [
        "# What percentage of our patients in this dataset had cardiovascular disease?\n",
        "df_cardio = df[df[\"cardio\"] == 1][\"cardio\"]\n",
        "\n",
        "# Take the number of patients with cardiovascular disease signs and divide by the length \n",
        "# of the dataset overall to find percent of patients with cardiovascular disease\n",
        "len(df_cardio) / len(df) * 100"
      ],
      "execution_count": 78,
      "outputs": [
        {
          "output_type": "execute_result",
          "data": {
            "text/plain": [
              "49.97"
            ]
          },
          "metadata": {
            "tags": []
          },
          "execution_count": 78
        }
      ]
    },
    {
      "cell_type": "markdown",
      "metadata": {
        "id": "OG-htlfCdpXw"
      },
      "source": [
        "It looks like almost 50% of our patients have signs of cardiovascular disease! I wanted to see if this was representative of the population mean. \n",
        "\n",
        "Our dataset doesn't tell us where these patients are from, but there is a statistic from the American Heart Association: \n",
        "\n",
        "At least 48 percent of U.S. adults have some form of cardiovascular disease, based on the latest statistics provided by the American Heart Association. Feb 19, 2019"
      ]
    },
    {
      "cell_type": "code",
      "metadata": {
        "colab": {
          "base_uri": "https://localhost:8080/"
        },
        "id": "gwUBAjKic2OU",
        "outputId": "71b9fabb-52d8-48d5-df6e-21ac2098af31"
      },
      "source": [
        "# What is the mean age of the patients that we're evaluating? \n",
        "# Our dataset gives us age in days, so I'll find the mean and divide by 365 days to approximate the mean age in years\n",
        "age = df[\"age\"].apply(lambda x: x / 365).mean()\n",
        "age"
      ],
      "execution_count": 79,
      "outputs": [
        {
          "output_type": "execute_result",
          "data": {
            "text/plain": [
              "53.33935839530379"
            ]
          },
          "metadata": {
            "tags": []
          },
          "execution_count": 79
        }
      ]
    },
    {
      "cell_type": "code",
      "metadata": {
        "colab": {
          "base_uri": "https://localhost:8080/",
          "height": 400
        },
        "id": "4sUdmtYxfYSM",
        "outputId": "f8044324-9d29-4606-ad6d-4b17b8d958df"
      },
      "source": [
        "# I want to see what the incidence of cardiovascular disease is for different genders. I'm going to set up a count plot to visualize this.\n",
        "# 1 = female\n",
        "# 2 = male\n",
        "# it looks like there are less males overall, so let's maybe do one more experiment\n",
        "sns.catplot(x=\"gender\", col=\"cardio\", data=df, kind=\"count\")"
      ],
      "execution_count": 80,
      "outputs": [
        {
          "output_type": "execute_result",
          "data": {
            "text/plain": [
              "<seaborn.axisgrid.FacetGrid at 0x7f91e8ca0b10>"
            ]
          },
          "metadata": {
            "tags": []
          },
          "execution_count": 80
        },
        {
          "output_type": "display_data",
          "data": {
            "image/png": "[encoded data removed]",
            "text/plain": [
              "<Figure size 720x360 with 2 Axes>"
            ]
          },
          "metadata": {
            "tags": [],
            "needs_background": "light"
          }
        }
      ]
    },
    {
      "cell_type": "code",
      "metadata": {
        "colab": {
          "base_uri": "https://localhost:8080/"
        },
        "id": "6MfLNCzTg_jk",
        "outputId": "56ae4bb7-50ff-45d1-a442-4a85f839d56b"
      },
      "source": [
        "# Let's see how many males | females there are\n",
        "\n",
        "df_male = df[df[\"gender\"] == 2]\n",
        "df_female = df[df[\"gender\"] == 1]\n",
        "\n",
        "print(f\"Males: {len(df_male)}\")\n",
        "print(f\"Females: {len(df_female)}\")"
      ],
      "execution_count": 81,
      "outputs": [
        {
          "output_type": "stream",
          "text": [
            "Males: 24470\n",
            "Females: 45530\n"
          ],
          "name": "stdout"
        }
      ]
    },
    {
      "cell_type": "code",
      "metadata": {
        "colab": {
          "base_uri": "https://localhost:8080/"
        },
        "id": "nGJI5_0Kk-qI",
        "outputId": "e9834a6d-e412-4b58-921e-97304480884d"
      },
      "source": [
        "# Alright, now I want to split them up into groups of 1000, and see if per 1000 patients of each gender\n",
        "# if there's a difference in the incidence of cardiovascular disease\n",
        "sample_male = df_male[:1000][df_male[\"cardio\"] == 1]\n",
        "print(f\"# of males with cardiovascular disease out of 1000: {len(sample_male)}\")\n",
        "sample_female = df_female[:1000][df_female[\"cardio\"] == 1]\n",
        "print(f\"# of females with cardiovascular disease out of 1000: {len(sample_female)}\")"
      ],
      "execution_count": 82,
      "outputs": [
        {
          "output_type": "stream",
          "text": [
            "# of males with cardiovascular disease out of 1000: 495\n",
            "# of females with cardiovascular disease out of 1000: 502\n"
          ],
          "name": "stdout"
        },
        {
          "output_type": "stream",
          "text": [
            "/usr/local/lib/python3.7/dist-packages/ipykernel_launcher.py:3: UserWarning: Boolean Series key will be reindexed to match DataFrame index.\n",
            "  This is separate from the ipykernel package so we can avoid doing imports until\n",
            "/usr/local/lib/python3.7/dist-packages/ipykernel_launcher.py:5: UserWarning: Boolean Series key will be reindexed to match DataFrame index.\n",
            "  \"\"\"\n"
          ],
          "name": "stderr"
        }
      ]
    },
    {
      "cell_type": "markdown",
      "metadata": {
        "id": "f9To9q36MHMw"
      },
      "source": [
        "What I can draw from this is that although our original catplot may have been a bit confusing, there isn't a significant difference in patients with cardiovascular disease between males and females in our sample. "
      ]
    },
    {
      "cell_type": "code",
      "metadata": {
        "colab": {
          "base_uri": "https://localhost:8080/",
          "height": 297
        },
        "id": "3oLaJi_emKOE",
        "outputId": "8d2f5088-a88a-461b-9e3f-1c38ce2ea852"
      },
      "source": [
        "# I wanted to see if there was a relationship between a patient's age and their blood pressure, but in the process of plotting that\n",
        "# I found out that there are some really strange values in our blood pressure (ap_hi and ap_lo) columns. \n",
        "# So, instead, I'm going to use a boxplot to see if there are some potential outliers, and remove them if there are. \n",
        "\n",
        "sns.boxplot(x=\"ap_hi\", data=df)\n",
        "\n",
        "# So, yeah this looks pretty messed up. Let's go through and clip out some outliers. We shouldn't really have any values in the 10's of thousands for blood pressure."
      ],
      "execution_count": 83,
      "outputs": [
        {
          "output_type": "execute_result",
          "data": {
            "text/plain": [
              "<matplotlib.axes._subplots.AxesSubplot at 0x7f91e8d80310>"
            ]
          },
          "metadata": {
            "tags": []
          },
          "execution_count": 83
        },
        {
          "output_type": "display_data",
          "data": {
            "image/png": "[encoded data removed]",
            "text/plain": [
              "<Figure size 432x288 with 1 Axes>"
            ]
          },
          "metadata": {
            "tags": [],
            "needs_background": "light"
          }
        }
      ]
    },
    {
      "cell_type": "code",
      "metadata": {
        "colab": {
          "base_uri": "https://localhost:8080/"
        },
        "id": "k4UTmsAupJI0",
        "outputId": "fe1d807e-24c0-4550-eec2-bf5a8e094a78"
      },
      "source": [
        "# I'm going to use the IQR method to clip outliers from both the ap_lo and ap_hi columns \n",
        "\n",
        "# First, I'm going to sort both columns and find the first and third quartiles of both systolic and diastolic bp\n",
        "\n",
        "q1_hi, q3_hi = np.percentile(sorted(df[\"ap_hi\"]), [25, 75])\n",
        "q1_lo, q3_lo = np.percentile(sorted(df[\"ap_lo\"]), [25, 75])\n",
        "\n",
        "# Then, we subtract the first quartile from the third to find our interquartile range\n",
        "iqr_hi = q3_hi - q1_hi\n",
        "iqr_lo = q3_lo - q3_lo\n",
        "\n",
        "# Now, I want to find lower and upper bounds for both columns\n",
        "\n",
        "upper_bound_hi = q3_hi +(1.5 * iqr_hi) \n",
        "lower_bound_hi = q1_hi -(1.5 * iqr_hi)\n",
        "\n",
        "upper_bound_lo = q3_lo +(1.5 * iqr_lo) \n",
        "lower_bound_lo = q1_lo - (1.5 * iqr_lo) \n",
        "\n",
        "print(f\"Upper bound systolic bp: {upper_bound_hi}\")\n",
        "print(f\"Lower bound systolic bp: {lower_bound_hi}\")\n",
        "\n",
        "print(f\"Upper bound diastolic bp: {upper_bound_lo}\")\n",
        "print(f\"Lower bound diastolic bp: {lower_bound_lo}\")\n",
        "\n",
        "# Now that we know what our lower and upper bounds are, we're going to clip out the outliers to avoid the strange behavior we were getting earlier.\n",
        "clean_df = df[(df[\"ap_hi\"] > lower_bound_hi) & (df[\"ap_hi\"] < upper_bound_hi) & (df[\"ap_lo\"] > lower_bound_lo) & (df[\"ap_lo\"] < upper_bound_lo)]\n",
        "\n",
        "clean_age = clean_df[\"age\"].apply(lambda x: x / 365)"
      ],
      "execution_count": 89,
      "outputs": [
        {
          "output_type": "stream",
          "text": [
            "Upper bound systolic bp: 170.0\n",
            "Lower bound systolic bp: 90.0\n",
            "Upper bound diastolic bp: 90.0\n",
            "Lower bound diastolic bp: 80.0\n"
          ],
          "name": "stdout"
        }
      ]
    },
    {
      "cell_type": "code",
      "metadata": {
        "colab": {
          "base_uri": "https://localhost:8080/",
          "height": 296
        },
        "id": "IpTt3WSUS5YQ",
        "outputId": "108dc05b-ad97-45f8-a768-e983bb89d19c"
      },
      "source": [
        "# Now that we've done aaaaaallllll of that, we can try to plot our age against our systolic bp, and see if there's any relationship. \n",
        "\n",
        "sns.regplot(x=clean_age, y=clean_df[\"ap_hi\"], data=clean_df)"
      ],
      "execution_count": 90,
      "outputs": [
        {
          "output_type": "execute_result",
          "data": {
            "text/plain": [
              "<matplotlib.axes._subplots.AxesSubplot at 0x7f91e8d22890>"
            ]
          },
          "metadata": {
            "tags": []
          },
          "execution_count": 90
        },
        {
          "output_type": "display_data",
          "data": {
            "image/png": "[encoded data removed]",
            "text/plain": [
              "<Figure size 432x288 with 1 Axes>"
            ]
          },
          "metadata": {
            "tags": [],
            "needs_background": "light"
          }
        }
      ]
    },
    {
      "cell_type": "code",
      "metadata": {
        "colab": {
          "base_uri": "https://localhost:8080/",
          "height": 296
        },
        "id": "38tUM3hVVhGo",
        "outputId": "56b393d8-0ef0-44c1-a41d-21cb81446d9f"
      },
      "source": [
        "# Alright, so after all of that we can safely say that these two data points really don't have a relationship. What about weight and blood pressure? \n",
        "sns.regplot(x=clean_df[\"weight\"], y=clean_df[\"ap_hi\"], data=clean_df)"
      ],
      "execution_count": 91,
      "outputs": [
        {
          "output_type": "execute_result",
          "data": {
            "text/plain": [
              "<matplotlib.axes._subplots.AxesSubplot at 0x7f91e8bfef50>"
            ]
          },
          "metadata": {
            "tags": []
          },
          "execution_count": 91
        },
        {
          "output_type": "display_data",
          "data": {
            "image/png": "[encoded data removed]",
            "text/plain": [
              "<Figure size 432x288 with 1 Axes>"
            ]
          },
          "metadata": {
            "tags": [],
            "needs_background": "light"
          }
        }
      ]
    },
    {
      "cell_type": "code",
      "metadata": {
        "id": "Bfy_WRbmXPBA"
      },
      "source": [
        "# Hmm, less of a relationship than I thought! That's okay, let's see if we can make decent classifications with the rest of the features considered. \n",
        "from sklearn.model_selection import train_test_split\n",
        "from sklearn.neighbors import KNeighborsClassifier\n",
        "\n",
        "# First, I want to get our X and y, and do our train/test split\n",
        "X = clean_df.drop(\"cardio\", axis=1)\n",
        "y = clean_df[\"cardio\"]\n",
        "\n",
        "# Use sklearn's train_test_split method\n",
        "X_train, X_test, y_train, y_test = train_test_split(X, y)"
      ],
      "execution_count": 92,
      "outputs": []
    },
    {
      "cell_type": "code",
      "metadata": {
        "colab": {
          "base_uri": "https://localhost:8080/"
        },
        "id": "8WuntGSqX9n0",
        "outputId": "dd80be7f-65d3-471c-9c0e-1fb1fab1497a"
      },
      "source": [
        "for k in range(10, 30):\n",
        "  # get an object representing our model or algorithm\n",
        "  knn = KNeighborsClassifier(n_neighbors=k)\n",
        "\n",
        "  # \"fit\" or train model on training data\n",
        "  knn.fit(X_train, y_train)\n",
        "\n",
        "  # Check out training accuracy\n",
        "  print(f\"K = {k}\")\n",
        "  print(f\"Training accuracy: {knn.score(X_train, y_train)}\")\n",
        "  print(f\"Test accuracy: {knn.score(X_test, y_test)}\")"
      ],
      "execution_count": 93,
      "outputs": [
        {
          "output_type": "stream",
          "text": [
            "K = 10\n",
            "Training accuracy: 0.6418918918918919\n",
            "Test accuracy: 0.5234899328859061\n",
            "K = 11\n",
            "Training accuracy: 0.6486486486486487\n",
            "Test accuracy: 0.5436241610738255\n",
            "K = 12\n",
            "Training accuracy: 0.6328828828828829\n",
            "Test accuracy: 0.5302013422818792\n",
            "K = 13\n",
            "Training accuracy: 0.6328828828828829\n",
            "Test accuracy: 0.5369127516778524\n",
            "K = 14\n",
            "Training accuracy: 0.6148648648648649\n",
            "Test accuracy: 0.5436241610738255\n",
            "K = 15\n",
            "Training accuracy: 0.6306306306306306\n",
            "Test accuracy: 0.5570469798657718\n",
            "K = 16\n",
            "Training accuracy: 0.6238738738738738\n",
            "Test accuracy: 0.5637583892617449\n",
            "K = 17\n",
            "Training accuracy: 0.6103603603603603\n",
            "Test accuracy: 0.5637583892617449\n",
            "K = 18\n",
            "Training accuracy: 0.6261261261261262\n",
            "Test accuracy: 0.5302013422818792\n",
            "K = 19\n",
            "Training accuracy: 0.6193693693693694\n",
            "Test accuracy: 0.5637583892617449\n",
            "K = 20\n",
            "Training accuracy: 0.6193693693693694\n",
            "Test accuracy: 0.5503355704697986\n",
            "K = 21\n",
            "Training accuracy: 0.6306306306306306\n",
            "Test accuracy: 0.5570469798657718\n",
            "K = 22\n",
            "Training accuracy: 0.6261261261261262\n",
            "Test accuracy: 0.5100671140939598\n",
            "K = 23\n",
            "Training accuracy: 0.6148648648648649\n",
            "Test accuracy: 0.5369127516778524\n",
            "K = 24\n",
            "Training accuracy: 0.6058558558558559\n",
            "Test accuracy: 0.5302013422818792\n",
            "K = 25\n",
            "Training accuracy: 0.6148648648648649\n",
            "Test accuracy: 0.5167785234899329\n",
            "K = 26\n",
            "Training accuracy: 0.5968468468468469\n",
            "Test accuracy: 0.5234899328859061\n",
            "K = 27\n",
            "Training accuracy: 0.6013513513513513\n",
            "Test accuracy: 0.5234899328859061\n",
            "K = 28\n",
            "Training accuracy: 0.5968468468468469\n",
            "Test accuracy: 0.5033557046979866\n",
            "K = 29\n",
            "Training accuracy: 0.6103603603603603\n",
            "Test accuracy: 0.5369127516778524\n"
          ],
          "name": "stdout"
        }
      ]
    },
    {
      "cell_type": "code",
      "metadata": {
        "id": "RShWtSi4YIm8"
      },
      "source": [
        "# I want to do one more experiment with the dataset that wasn't clipped of outliers, just in case\n",
        "# First, I want to get our X and y, and do our train/test split\n",
        "X = df.drop(\"cardio\", axis=1)\n",
        "y = df[\"cardio\"]\n",
        "\n",
        "# Use sklearn's train_test_split method\n",
        "X_train, X_test, y_train, y_test = train_test_split(X, y)"
      ],
      "execution_count": 94,
      "outputs": []
    },
    {
      "cell_type": "code",
      "metadata": {
        "colab": {
          "base_uri": "https://localhost:8080/"
        },
        "id": "tX-KB1yIYTyk",
        "outputId": "3b9f24be-f312-484d-80de-977491625fc1"
      },
      "source": [
        "for k in range(10, 30):\n",
        "  # get an object representing our model or algorithm\n",
        "  knn = KNeighborsClassifier(n_neighbors=k)\n",
        "\n",
        "  # \"fit\" or train model on training data\n",
        "  knn.fit(X_train, y_train)\n",
        "\n",
        "  # Check out training accuracy\n",
        "  print(f\"K = {k}\")\n",
        "  print(f\"Training accuracy: {knn.score(X_train, y_train)}\")\n",
        "  print(f\"Test accuracy: {knn.score(X_test, y_test)}\")"
      ],
      "execution_count": 95,
      "outputs": [
        {
          "output_type": "stream",
          "text": [
            "K = 10\n",
            "Training accuracy: 0.6575619047619048\n",
            "Test accuracy: 0.5657142857142857\n",
            "K = 11\n",
            "Training accuracy: 0.6600952380952381\n",
            "Test accuracy: 0.5727428571428571\n",
            "K = 12\n",
            "Training accuracy: 0.6506095238095239\n",
            "Test accuracy: 0.5718285714285715\n",
            "K = 13\n",
            "Training accuracy: 0.6510857142857143\n",
            "Test accuracy: 0.5777142857142857\n",
            "K = 14\n",
            "Training accuracy: 0.6444\n",
            "Test accuracy: 0.5750285714285714\n",
            "K = 15\n",
            "Training accuracy: 0.6463047619047619\n",
            "Test accuracy: 0.5777714285714286\n",
            "K = 16\n",
            "Training accuracy: 0.6404380952380953\n",
            "Test accuracy: 0.5753142857142857\n",
            "K = 17\n",
            "Training accuracy: 0.6409142857142858\n",
            "Test accuracy: 0.5792\n",
            "K = 18\n",
            "Training accuracy: 0.6357714285714285\n",
            "Test accuracy: 0.5784\n",
            "K = 19\n",
            "Training accuracy: 0.6346095238095238\n",
            "Test accuracy: 0.5781142857142857\n",
            "K = 20\n",
            "Training accuracy: 0.6317142857142857\n",
            "Test accuracy: 0.5784571428571429\n",
            "K = 21\n",
            "Training accuracy: 0.6320571428571429\n",
            "Test accuracy: 0.5790285714285714\n",
            "K = 22\n",
            "Training accuracy: 0.628095238095238\n",
            "Test accuracy: 0.5777142857142857\n",
            "K = 23\n",
            "Training accuracy: 0.6290285714285714\n",
            "Test accuracy: 0.5805142857142858\n",
            "K = 24\n",
            "Training accuracy: 0.6268571428571429\n",
            "Test accuracy: 0.5808\n",
            "K = 25\n",
            "Training accuracy: 0.6267428571428572\n",
            "Test accuracy: 0.5825142857142858\n",
            "K = 26\n",
            "Training accuracy: 0.6244761904761905\n",
            "Test accuracy: 0.5785714285714286\n",
            "K = 27\n",
            "Training accuracy: 0.6251428571428571\n",
            "Test accuracy: 0.5802285714285714\n",
            "K = 28\n",
            "Training accuracy: 0.6240761904761905\n",
            "Test accuracy: 0.5778285714285715\n",
            "K = 29\n",
            "Training accuracy: 0.6237904761904762\n",
            "Test accuracy: 0.5811428571428572\n"
          ],
          "name": "stdout"
        }
      ]
    },
    {
      "cell_type": "markdown",
      "metadata": {
        "id": "cOn8IeJuY9ic"
      },
      "source": [
        "Conclusions: \n",
        "\n",
        "- There were some tricky datapoints in this dataset, that I would love to explore further. \n",
        "\n",
        "- Our KNN model didn't really seem to do well, even with the cleaned data. I wonder if this is due to features that don't have much to do with each other, or data that just isn't well normalized. \n",
        "\n",
        "- Because of this, I'm curious if a different type of model would do better, or if it would really just take a better understanding of normalizing data/how KNN works to find an optimal solution! \n",
        "\n",
        "- I plan on revisiting this dataset later to perform some more experiments, and see if I can get more practical results! "
      ]
    }
  ]
}